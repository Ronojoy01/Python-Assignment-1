{
 "cells": [
  {
   "cell_type": "markdown",
   "id": "67e40d54",
   "metadata": {},
   "source": [
    "                                                 #ASSIGNMENT 1"
   ]
  },
  {
   "cell_type": "markdown",
   "id": "e0326fa9",
   "metadata": {},
   "source": [
    "1. In the below elements which of them are values or an expression? eg:- values can be integer or string and expression will be mathematical operators."
   ]
  },
  {
   "cell_type": "raw",
   "id": "44eb57d6",
   "metadata": {},
   "source": [
    "* = expressions,\n",
    "\n",
    "'hello = values\n",
    "\n",
    "-87.8 = values\n",
    "\n",
    "- = expressions\n",
    "\n",
    "/ = expressions\n",
    "\n",
    "+ = expressions\n",
    "\n",
    "6 = values\n",
    "       "
   ]
  },
  {
   "cell_type": "markdown",
   "id": "24e0ee1d",
   "metadata": {},
   "source": [
    "2. What is the difference between string and variable?"
   ]
  },
  {
   "cell_type": "markdown",
   "id": "11e189a2",
   "metadata": {},
   "source": [
    "Ans - String are data, we can use them to fill a variable. String starts with ('') (\"\") (\"' \"'). A string can contain any sequence of characters,it may be visible or not visible. example of string \"ronojoy\", 'RONOJOY' '7'\n",
    " \n",
    " \n",
    " \n",
    " Variable are used to store data in a program. Variables are symbolic name that is a reference or pointer to an object, Once a object is assigned to a variable, you can refer to the object by that name.Variable cannot start with an integer. In the below example X, WW4 are the variables.\n",
    " \n",
    " X = \"INEURON\"\n",
    " WW4 = \"95552656\""
   ]
  },
  {
   "cell_type": "markdown",
   "id": "6844baa9",
   "metadata": {},
   "source": [
    "3. Describe three different data types?"
   ]
  },
  {
   "cell_type": "markdown",
   "id": "265c287f",
   "metadata": {},
   "source": [
    "Ans - Three data types are\n",
    "\n",
    "1. Boolean data types - These data types comes with True or False data inside a variable. These data types in python is call bool.\n",
    "2. String data types  - These data types comes with sequence of character data. These data types in python is call str.\n",
    "3. Complex data type  - These data types comes with two parts, Real part and Imaginary part. These data types in python is call complex.The imaginary part will always have j as notation. \n"
   ]
  },
  {
   "cell_type": "markdown",
   "id": "6ac23930",
   "metadata": {},
   "source": [
    "4. What is an expression made up of? What do all expression do?"
   ]
  },
  {
   "cell_type": "markdown",
   "id": "db1f054c",
   "metadata": {},
   "source": [
    "Ans - An expression made up of operators and operands. For example 7+1 the output is 8. Here, + is the operator, 7 and 1 are the operands and 8 is the output.\n",
    "\n",
    "All Expression helps to explain the meaning of (information or action) to produce some other values which is call output."
   ]
  },
  {
   "cell_type": "markdown",
   "id": "6af4dc51",
   "metadata": {},
   "source": [
    "5.  This assignment statements, like spam = 10. What is the diffrence between an expression and statement ?"
   ]
  },
  {
   "cell_type": "markdown",
   "id": "120e925a",
   "metadata": {},
   "source": [
    "Ans - Expression can be defined as any element in our program that evaluates to some value.Whereas,Statement represent an action or command, for example Print statement."
   ]
  },
  {
   "cell_type": "markdown",
   "id": "10258435",
   "metadata": {},
   "source": [
    "6. After running the following code, what does bacon contain? bacon = 22  bacon + 1"
   ]
  },
  {
   "cell_type": "markdown",
   "id": "5e4c0089",
   "metadata": {},
   "source": [
    "Ans - The output will be 23"
   ]
  },
  {
   "cell_type": "code",
   "execution_count": 18,
   "id": "e774542e",
   "metadata": {},
   "outputs": [],
   "source": [
    "bacon = 22"
   ]
  },
  {
   "cell_type": "code",
   "execution_count": 19,
   "id": "a826ca10",
   "metadata": {},
   "outputs": [
    {
     "data": {
      "text/plain": [
       "23"
      ]
     },
     "execution_count": 19,
     "metadata": {},
     "output_type": "execute_result"
    }
   ],
   "source": [
    "bacon + 1"
   ]
  },
  {
   "cell_type": "markdown",
   "id": "f7df8c55",
   "metadata": {},
   "source": [
    "7. What should the values of the following two terms be 'spam' +'spamspam' 'spam'*3"
   ]
  },
  {
   "cell_type": "markdown",
   "id": "9b2c78b7",
   "metadata": {},
   "source": [
    "Ans - In the both cases the output will be 'spamspamspam'"
   ]
  },
  {
   "cell_type": "code",
   "execution_count": 20,
   "id": "016a29af",
   "metadata": {},
   "outputs": [
    {
     "data": {
      "text/plain": [
       "'spamspamspam'"
      ]
     },
     "execution_count": 20,
     "metadata": {},
     "output_type": "execute_result"
    }
   ],
   "source": [
    "'spam'+ 'spamspam'"
   ]
  },
  {
   "cell_type": "code",
   "execution_count": 21,
   "id": "52be633d",
   "metadata": {},
   "outputs": [
    {
     "data": {
      "text/plain": [
       "'spamspamspam'"
      ]
     },
     "execution_count": 21,
     "metadata": {},
     "output_type": "execute_result"
    }
   ],
   "source": [
    "'spam'*3"
   ]
  },
  {
   "cell_type": "markdown",
   "id": "015ab965",
   "metadata": {},
   "source": [
    "8. Why is eggs a valid variable name while 100 is invalid?"
   ]
  },
  {
   "cell_type": "markdown",
   "id": "cfb80ce3",
   "metadata": {},
   "source": [
    "Ans - Because variable name cannot be a number as 100 is an integer thats why showing invalid"
   ]
  },
  {
   "cell_type": "markdown",
   "id": "c3774a14",
   "metadata": {},
   "source": [
    "9. What three functions can be used to get the integer, floating-point number, or string version of a value?"
   ]
  },
  {
   "cell_type": "markdown",
   "id": "07dae1df",
   "metadata": {},
   "source": [
    "Ans - int() for integer float() for floating-point number Str() for string."
   ]
  },
  {
   "cell_type": "markdown",
   "id": "b4f875f6",
   "metadata": {},
   "source": [
    "10. Why does this expression cause an error? How can you fix it? 'I have eaten' + 99 + 'burritos' "
   ]
  },
  {
   "cell_type": "markdown",
   "id": "0b2371f7",
   "metadata": {},
   "source": [
    "Ans - This expression cause an error because we are trying to concatinate the expression and only string variable can concatinate integer cannot and 99 is an integer. Now we can fix the error by writing this code 'I have eaten' + '99' + 'burritos' The output will be 'I have eaten99burritos' We can also write this program in such a way to give spaces between the different words 'I have eaten' + ' 99' + ' burritos' Now the output will be 'I have eaten 99 burritos'\n"
   ]
  },
  {
   "cell_type": "code",
   "execution_count": 22,
   "id": "2de677e1",
   "metadata": {},
   "outputs": [
    {
     "ename": "TypeError",
     "evalue": "can only concatenate str (not \"int\") to str",
     "output_type": "error",
     "traceback": [
      "\u001b[1;31m---------------------------------------------------------------------------\u001b[0m",
      "\u001b[1;31mTypeError\u001b[0m                                 Traceback (most recent call last)",
      "\u001b[1;32m~\\AppData\\Local\\Temp/ipykernel_20896/2733022945.py\u001b[0m in \u001b[0;36m<module>\u001b[1;34m\u001b[0m\n\u001b[1;32m----> 1\u001b[1;33m \u001b[1;34m'I have eaten'\u001b[0m \u001b[1;33m+\u001b[0m \u001b[1;36m99\u001b[0m \u001b[1;33m+\u001b[0m \u001b[1;34m'burritos'\u001b[0m\u001b[1;33m\u001b[0m\u001b[1;33m\u001b[0m\u001b[0m\n\u001b[0m",
      "\u001b[1;31mTypeError\u001b[0m: can only concatenate str (not \"int\") to str"
     ]
    }
   ],
   "source": [
    "'I have eaten' + 99 + 'burritos'"
   ]
  },
  {
   "cell_type": "code",
   "execution_count": 23,
   "id": "612cb497",
   "metadata": {},
   "outputs": [
    {
     "data": {
      "text/plain": [
       "'I have eaten99burritos'"
      ]
     },
     "execution_count": 23,
     "metadata": {},
     "output_type": "execute_result"
    }
   ],
   "source": [
    "'I have eaten' + '99' + 'burritos'"
   ]
  },
  {
   "cell_type": "code",
   "execution_count": 24,
   "id": "f2b46aec",
   "metadata": {},
   "outputs": [
    {
     "data": {
      "text/plain": [
       "'I have eaten 99 burritos'"
      ]
     },
     "execution_count": 24,
     "metadata": {},
     "output_type": "execute_result"
    }
   ],
   "source": [
    "'I have eaten' + ' 99' + ' burritos'"
   ]
  },
  {
   "cell_type": "code",
   "execution_count": null,
   "id": "704c4fb9",
   "metadata": {},
   "outputs": [],
   "source": []
  }
 ],
 "metadata": {
  "kernelspec": {
   "display_name": "Python 3 (ipykernel)",
   "language": "python",
   "name": "python3"
  },
  "language_info": {
   "codemirror_mode": {
    "name": "ipython",
    "version": 3
   },
   "file_extension": ".py",
   "mimetype": "text/x-python",
   "name": "python",
   "nbconvert_exporter": "python",
   "pygments_lexer": "ipython3",
   "version": "3.9.7"
  }
 },
 "nbformat": 4,
 "nbformat_minor": 5
}
